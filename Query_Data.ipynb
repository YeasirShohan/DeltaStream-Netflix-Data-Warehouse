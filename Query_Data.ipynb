{
 "cells": [
  {
   "cell_type": "code",
   "execution_count": 0,
   "metadata": {
    "application/vnd.databricks.v1+cell": {
     "cellMetadata": {
      "byteLimit": 2048000,
      "implicitDf": true,
      "rowLimit": 10000
     },
     "inputWidgets": {},
     "nuid": "1048aa04-d235-4751-9386-541080eca348",
     "showTitle": false,
     "tableResultSettingsMap": {},
     "title": ""
    }
   },
   "outputs": [],
   "source": [
    "%sql\n",
    "--Avarage rating by genre\n",
    "SELECT g.GenreName, AVG(f.Rating) AS AvgRating\n",
    "FROM netflix_data.data_warehouse.factmovieinteraction f\n",
    "JOIN netflix_data.data_warehouse.BridgeMovieGenre bg ON f.MovieID = bg.MovieID\n",
    "JOIN netflix_data.data_warehouse.DimGenre g ON bg.GenreID = g.GenreID\n",
    "GROUP BY g.GenreName;\n"
   ]
  },
  {
   "cell_type": "code",
   "execution_count": 0,
   "metadata": {
    "application/vnd.databricks.v1+cell": {
     "cellMetadata": {
      "byteLimit": 2048000,
      "implicitDf": true,
      "rowLimit": 10000
     },
     "inputWidgets": {},
     "nuid": "ec3f9ec4-47a7-4429-b0f1-2d32c606047f",
     "showTitle": false,
     "tableResultSettingsMap": {},
     "title": ""
    }
   },
   "outputs": [],
   "source": [
    "%sql\n",
    "-- Top 5 tags for movies in the Comedy genre\n",
    "SELECT t.TagName, COUNT(*) AS TagCount\n",
    "FROM netflix_data.data_warehouse.FactMovieInteraction f\n",
    "JOIN netflix_data.data_warehouse.DimTag t ON f.TagName = t.TagName\n",
    "JOIN netflix_data.data_warehouse.BridgeMovieGenre bg ON f.MovieID = bg.MovieID\n",
    "JOIN netflix_data.data_warehouse.DimGenre g ON bg.GenreID = g.GenreID\n",
    "WHERE g.GenreName = 'Comedy'\n",
    "GROUP BY t.TagName\n",
    "ORDER BY TagCount DESC;\n"
   ]
  }
 ],
 "metadata": {
  "application/vnd.databricks.v1+notebook": {
   "computePreferences": null,
   "dashboards": [],
   "environmentMetadata": {
    "base_environment": "",
    "environment_version": "3"
   },
   "inputWidgetPreferences": null,
   "language": "python",
   "notebookMetadata": {
    "mostRecentlyExecutedCommandWithImplicitDF": {
     "commandId": 5673630800714428,
     "dataframes": [
      "_sqldf"
     ]
    },
    "pythonIndentUnit": 4
   },
   "notebookName": "Query_Data",
   "widgets": {}
  },
  "language_info": {
   "name": "python"
  }
 },
 "nbformat": 4,
 "nbformat_minor": 0
}
