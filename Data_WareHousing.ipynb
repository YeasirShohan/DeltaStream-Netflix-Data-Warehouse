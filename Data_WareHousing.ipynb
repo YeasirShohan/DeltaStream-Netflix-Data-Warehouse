{
 "cells": [
  {
   "cell_type": "code",
   "execution_count": 0,
   "metadata": {
    "application/vnd.databricks.v1+cell": {
     "cellMetadata": {
      "byteLimit": 2048000,
      "implicitDf": true,
      "rowLimit": 10000
     },
     "inputWidgets": {},
     "nuid": "636f754f-c422-45f0-9a1b-023f04fd4b4f",
     "showTitle": false,
     "tableResultSettingsMap": {},
     "title": ""
    }
   },
   "outputs": [],
   "source": [
    "%sql\n",
    "-- Movie dimension\n",
    "CREATE TABLE netflix_data.data_warehouse.DimMovie(\n",
    "    MovieID INT PRIMARY KEY,\n",
    "    MovieTitle VARCHAR(255),\n",
    "    AverageRatingOfMovie DECIMAL(3,2)\n",
    ");"
   ]
  },
  {
   "cell_type": "code",
   "execution_count": 0,
   "metadata": {
    "application/vnd.databricks.v1+cell": {
     "cellMetadata": {
      "byteLimit": 2048000,
      "implicitDf": true,
      "rowLimit": 10000
     },
     "inputWidgets": {},
     "nuid": "83156b60-edd2-4e70-8540-1e97c53381f1",
     "showTitle": false,
     "tableResultSettingsMap": {},
     "title": ""
    }
   },
   "outputs": [],
   "source": [
    "%sql\n",
    "INSERT INTO netflix_data.data_warehouse.dimmovie(MovieID, MovieTitle,AverageRatingOfMovie)\n",
    "SELECT DISTINCT\n",
    "    MovieID,\n",
    "    MovieTitle,\n",
    "    AverageRatingOfMovie\n",
    "FROM netflix_data.transformed_data.bigflattable;\n"
   ]
  },
  {
   "cell_type": "code",
   "execution_count": 0,
   "metadata": {
    "application/vnd.databricks.v1+cell": {
     "cellMetadata": {
      "byteLimit": 2048000,
      "implicitDf": true,
      "rowLimit": 10000
     },
     "inputWidgets": {},
     "nuid": "6c57d480-4715-48c4-8b1a-4875a18d8424",
     "showTitle": false,
     "tableResultSettingsMap": {},
     "title": ""
    }
   },
   "outputs": [],
   "source": [
    "%sql\n",
    "-- Genre dimension\n",
    "CREATE TABLE netflix_data.data_warehouse.DimGenre (\n",
    "    GenreID INT PRIMARY KEY,\n",
    "    GenreName VARCHAR(50)\n",
    ");"
   ]
  },
  {
   "cell_type": "code",
   "execution_count": 0,
   "metadata": {
    "application/vnd.databricks.v1+cell": {
     "cellMetadata": {
      "byteLimit": 2048000,
      "implicitDf": true,
      "rowLimit": 10000
     },
     "inputWidgets": {},
     "nuid": "21a55dd1-0e8a-4ecc-96a4-1e833a40b763",
     "showTitle": false,
     "tableResultSettingsMap": {},
     "title": ""
    }
   },
   "outputs": [],
   "source": [
    "%sql\n",
    "INSERT INTO netflix_data.data_warehouse.DimGenre(GenreID, GenreName)\n",
    "VALUES\n",
    " (1, 'Comedy'),\n",
    " (2, 'Action'),\n",
    " (3, 'Adventure'),\n",
    " (4, 'Animation'),\n",
    " (5, 'Children'),\n",
    " (6, 'Fantasy'),\n",
    " (7, 'SciFi'),\n",
    " (8, 'Drama'),\n",
    " (9, 'Thriller'),\n",
    " (10, 'Horror'),\n",
    " (11, 'War'),\n",
    " (12, 'Musical'),\n",
    " (13, 'Documentary'),\n",
    " (14, 'Crime');\n"
   ]
  },
  {
   "cell_type": "code",
   "execution_count": 0,
   "metadata": {
    "application/vnd.databricks.v1+cell": {
     "cellMetadata": {
      "byteLimit": 2048000,
      "implicitDf": true,
      "rowLimit": 10000
     },
     "inputWidgets": {},
     "nuid": "2b2f2fe9-d172-4712-b3d1-1273a46d62bf",
     "showTitle": false,
     "tableResultSettingsMap": {},
     "title": ""
    }
   },
   "outputs": [],
   "source": [
    "%sql\n",
    "-- Bridge table (many-to-many relationship)\n",
    "CREATE TABLE netflix_data.data_warehouse.BridgeMovieGenre (\n",
    "    MovieID INT,\n",
    "    GenreID INT,\n",
    "    PRIMARY KEY (MovieID, GenreID),\n",
    "    FOREIGN KEY (MovieID) REFERENCES netflix_data.data_warehouse.DimMovie(MovieID),\n",
    "    FOREIGN KEY (GenreID) REFERENCES netflix_data.data_warehouse.DimGenre(GenreID)\n",
    ");"
   ]
  },
  {
   "cell_type": "markdown",
   "metadata": {
    "application/vnd.databricks.v1+cell": {
     "cellMetadata": {},
     "inputWidgets": {},
     "nuid": "b478b14b-faf4-474b-99b0-4273ec1361c8",
     "showTitle": false,
     "tableResultSettingsMap": {},
     "title": ""
    }
   },
   "source": [
    "### Transform Yes/No genre flags into rows"
   ]
  },
  {
   "cell_type": "code",
   "execution_count": 0,
   "metadata": {
    "application/vnd.databricks.v1+cell": {
     "cellMetadata": {
      "byteLimit": 2048000,
      "implicitDf": true,
      "rowLimit": 10000
     },
     "inputWidgets": {},
     "nuid": "5613163b-e477-4b22-911f-3c34565237e9",
     "showTitle": false,
     "tableResultSettingsMap": {},
     "title": ""
    }
   },
   "outputs": [],
   "source": [
    "%sql\n",
    "-- Comedy\n",
    "INSERT INTO netflix_data.data_warehouse.BridgeMovieGenre(MovieID, GenreID)\n",
    "SELECT MovieID, 1\n",
    "FROM netflix_data.transformed_data.bigflattable\n",
    "WHERE Comedy = 'Yes';\n",
    "\n",
    "-- Action\n",
    "INSERT INTO netflix_data.data_warehouse.BridgeMovieGenre(MovieID, GenreID)\n",
    "SELECT MovieID, 2\n",
    "FROM netflix_data.transformed_data.bigflattable\n",
    "WHERE Action = 'Yes';\n",
    "\n",
    "-- Adventure\n",
    "INSERT INTO netflix_data.data_warehouse.BridgeMovieGenre(MovieID, GenreID)\n",
    "SELECT MovieID, 3\n",
    "FROM netflix_data.transformed_data.bigflattable\n",
    "WHERE Adventure = 'Yes';\n",
    "\n",
    "-- Animation\n",
    "INSERT INTO netflix_data.data_warehouse.BridgeMovieGenre(MovieID, GenreID)\n",
    "SELECT MovieID, 4\n",
    "FROM netflix_data.transformed_data.bigflattable\n",
    "WHERE Animation = 'Yes';\n",
    "\n",
    "-- Children\n",
    "INSERT INTO netflix_data.data_warehouse.BridgeMovieGenre(MovieID, GenreID)\n",
    "SELECT MovieID, 5\n",
    "FROM netflix_data.transformed_data.bigflattable\n",
    "WHERE Children = 'Yes';\n",
    "\n",
    "-- Fantasy\n",
    "INSERT INTO netflix_data.data_warehouse.BridgeMovieGenre(MovieID, GenreID)\n",
    "SELECT MovieID, 6\n",
    "FROM netflix_data.transformed_data.bigflattable\n",
    "WHERE Fantasy = 'Yes';\n",
    "\n",
    "-- SciFi\n",
    "INSERT INTO netflix_data.data_warehouse.BridgeMovieGenre(MovieID, GenreID)\n",
    "SELECT MovieID, 7\n",
    "FROM netflix_data.transformed_data.bigflattable\n",
    "WHERE SciFi = 'Yes';\n",
    "\n",
    "-- Drama\n",
    "INSERT INTO netflix_data.data_warehouse.BridgeMovieGenre(MovieID, GenreID)\n",
    "SELECT MovieID, 8\n",
    "FROM netflix_data.transformed_data.bigflattable\n",
    "WHERE Drama = 'Yes';\n",
    "\n",
    "-- Thriller\n",
    "INSERT INTO netflix_data.data_warehouse.BridgeMovieGenre(MovieID, GenreID)\n",
    "SELECT MovieID, 9\n",
    "FROM netflix_data.transformed_data.bigflattable\n",
    "WHERE Thriller = 'Yes';\n",
    "\n",
    "-- Horror\n",
    "INSERT INTO netflix_data.data_warehouse.BridgeMovieGenre(MovieID, GenreID)\n",
    "SELECT MovieID, 10\n",
    "FROM netflix_data.transformed_data.bigflattable\n",
    "WHERE Horror = 'Yes';\n",
    "\n",
    "-- War\n",
    "INSERT INTO netflix_data.data_warehouse.BridgeMovieGenre(MovieID, GenreID)\n",
    "SELECT MovieID, 11\n",
    "FROM netflix_data.transformed_data.bigflattable\n",
    "WHERE War = 'Yes';\n",
    "\n",
    "-- Musical\n",
    "INSERT INTO netflix_data.data_warehouse.BridgeMovieGenre(MovieID, GenreID)\n",
    "SELECT MovieID, 12\n",
    "FROM netflix_data.transformed_data.bigflattable\n",
    "WHERE Musical = 'Yes';\n",
    "\n",
    "-- Documentary\n",
    "INSERT INTO netflix_data.data_warehouse.BridgeMovieGenre(MovieID, GenreID)\n",
    "SELECT MovieID, 13\n",
    "FROM netflix_data.transformed_data.bigflattable\n",
    "WHERE Documentary = 'Yes';\n",
    "\n",
    "-- Crime\n",
    "INSERT INTO netflix_data.data_warehouse.BridgeMovieGenre(MovieID, GenreID)\n",
    "SELECT MovieID, 14\n",
    "FROM netflix_data.transformed_data.bigflattable\n",
    "WHERE Crime = 'Yes';\n"
   ]
  },
  {
   "cell_type": "code",
   "execution_count": 0,
   "metadata": {
    "application/vnd.databricks.v1+cell": {
     "cellMetadata": {
      "byteLimit": 2048000,
      "implicitDf": true,
      "rowLimit": 10000
     },
     "inputWidgets": {},
     "nuid": "497af9c8-a885-476c-b30f-47bd73018835",
     "showTitle": false,
     "tableResultSettingsMap": {},
     "title": ""
    }
   },
   "outputs": [],
   "source": [
    "%sql\n",
    "-- User dimension\n",
    "CREATE TABLE netflix_data.data_warehouse.DimUser (\n",
    "    UserID INT PRIMARY KEY\n",
    ");\n"
   ]
  },
  {
   "cell_type": "code",
   "execution_count": 0,
   "metadata": {
    "application/vnd.databricks.v1+cell": {
     "cellMetadata": {
      "byteLimit": 2048000,
      "implicitDf": true,
      "rowLimit": 10000
     },
     "inputWidgets": {},
     "nuid": "76c7211c-e654-4a0b-b903-cd56413c9370",
     "showTitle": false,
     "tableResultSettingsMap": {},
     "title": ""
    }
   },
   "outputs": [],
   "source": [
    "%sql\n",
    "INSERT INTO netflix_data.data_warehouse.DimUser(UserID)\n",
    "SELECT DISTINCT UserID\n",
    "FROM netflix_data.transformed_data.bigflattable"
   ]
  },
  {
   "cell_type": "code",
   "execution_count": 0,
   "metadata": {
    "application/vnd.databricks.v1+cell": {
     "cellMetadata": {
      "byteLimit": 2048000,
      "implicitDf": true,
      "rowLimit": 10000
     },
     "inputWidgets": {},
     "nuid": "988083db-20c5-4ea6-abb7-ea9903522806",
     "showTitle": false,
     "tableResultSettingsMap": {},
     "title": ""
    }
   },
   "outputs": [],
   "source": [
    "%sql\n",
    "-- Tag Dimension\n",
    "CREATE TABLE netflix_data.data_warehouse.DimTag (\n",
    "     TagName VARCHAR(255) PRIMARY KEY,\n",
    "     TagDateTime DATE\n",
    ");\n"
   ]
  },
  {
   "cell_type": "code",
   "execution_count": 0,
   "metadata": {
    "application/vnd.databricks.v1+cell": {
     "cellMetadata": {
      "byteLimit": 2048000,
      "implicitDf": true,
      "rowLimit": 10000
     },
     "inputWidgets": {},
     "nuid": "c53217b6-d924-493c-98fe-96e1f9ba978d",
     "showTitle": false,
     "tableResultSettingsMap": {},
     "title": ""
    }
   },
   "outputs": [],
   "source": [
    "%sql\n",
    "INSERT INTO netflix_data.data_warehouse.DimTag(TagName, TagDateTime)\n",
    "SELECT DISTINCT MovieTag, MovieTagDateTime\n",
    "FROM netflix_data.transformed_data.bigflattable"
   ]
  },
  {
   "cell_type": "code",
   "execution_count": 0,
   "metadata": {
    "application/vnd.databricks.v1+cell": {
     "cellMetadata": {
      "byteLimit": 2048000,
      "implicitDf": true,
      "rowLimit": 10000
     },
     "inputWidgets": {},
     "nuid": "06850151-5999-4517-86d4-08fcef787f4c",
     "showTitle": false,
     "tableResultSettingsMap": {},
     "title": ""
    }
   },
   "outputs": [],
   "source": [
    "%sql\n",
    "--fact Table Movie Interaction\n",
    "CREATE TABLE netflix_data.data_warehouse.FactMovieInteraction (\n",
    "    InteractionID BIGINT PRIMARY KEY, -- surrogate key\n",
    "    UserID INT,\n",
    "    MovieID INT,\n",
    "    TagName VARCHAR(255),\n",
    "    Rating DECIMAL(2,1),\n",
    "    FOREIGN KEY (UserID) REFERENCES netflix_data.data_warehouse.DimUser(UserID),\n",
    "    FOREIGN KEY (MovieID) REFERENCES netflix_data.data_warehouse.DimMovie(MovieID),\n",
    "    FOREIGN KEY (TagName) REFERENCES netflix_data.data_warehouse.DimTag(TagName)\n",
    ");"
   ]
  },
  {
   "cell_type": "code",
   "execution_count": 0,
   "metadata": {
    "application/vnd.databricks.v1+cell": {
     "cellMetadata": {
      "byteLimit": 2048000,
      "implicitDf": true,
      "rowLimit": 10000
     },
     "inputWidgets": {},
     "nuid": "4a3d7378-46a2-421a-b62f-b7c519951920",
     "showTitle": false,
     "tableResultSettingsMap": {},
     "title": ""
    }
   },
   "outputs": [],
   "source": [
    "%sql\n",
    "INSERT INTO netflix_data.data_warehouse.FactMovieInteraction(InteractionID, UserID, MovieID, TagName, Rating)\n",
    "SELECT ROW_NUMBER() OVER (ORDER BY UserID, MovieID, MovieTag, AverageRatingOfMovie) AS InteractionID,\n",
    "       UserID, MovieID, MovieTag, AverageRatingOfMovie\n",
    "FROM netflix_data.transformed_data.bigflattable"
   ]
  }
 ],
 "metadata": {
  "application/vnd.databricks.v1+notebook": {
   "computePreferences": {
    "hardware": {
     "accelerator": null,
     "gpuPoolId": null,
     "memory": null
    }
   },
   "dashboards": [],
   "environmentMetadata": {
    "base_environment": "",
    "environment_version": "3"
   },
   "inputWidgetPreferences": null,
   "language": "python",
   "notebookMetadata": {
    "mostRecentlyExecutedCommandWithImplicitDF": {
     "commandId": 5673630800714420,
     "dataframes": [
      "_sqldf"
     ]
    },
    "pythonIndentUnit": 4
   },
   "notebookName": "Data_WareHousing",
   "widgets": {}
  },
  "language_info": {
   "name": "python"
  }
 },
 "nbformat": 4,
 "nbformat_minor": 0
}
