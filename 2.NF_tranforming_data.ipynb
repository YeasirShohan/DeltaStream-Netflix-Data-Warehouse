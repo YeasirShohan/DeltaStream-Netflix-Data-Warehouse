{
 "cells": [
  {
   "cell_type": "code",
   "execution_count": 0,
   "metadata": {
    "application/vnd.databricks.v1+cell": {
     "cellMetadata": {
      "byteLimit": 2048000,
      "rowLimit": 10000
     },
     "inputWidgets": {},
     "nuid": "83aaf4f8-3e4c-4478-863e-b44c5a570f51",
     "showTitle": false,
     "tableResultSettingsMap": {},
     "title": ""
    }
   },
   "outputs": [],
   "source": [
    "from pyspark.sql.functions import *"
   ]
  },
  {
   "cell_type": "markdown",
   "metadata": {
    "application/vnd.databricks.v1+cell": {
     "cellMetadata": {},
     "inputWidgets": {},
     "nuid": "8dbfb495-4c41-423e-93a2-fc434eedb1fb",
     "showTitle": false,
     "tableResultSettingsMap": {},
     "title": ""
    }
   },
   "source": [
    "### Work On Movie Table"
   ]
  },
  {
   "cell_type": "code",
   "execution_count": 0,
   "metadata": {
    "application/vnd.databricks.v1+cell": {
     "cellMetadata": {
      "byteLimit": 2048000,
      "implicitDf": true,
      "rowLimit": 10000
     },
     "inputWidgets": {},
     "nuid": "c99a5d12-eb24-4fcb-a1dc-8d1d48220311",
     "showTitle": false,
     "tableResultSettingsMap": {},
     "title": ""
    }
   },
   "outputs": [],
   "source": [
    "movie_df = spark.sql(\"\"\"SELECT \n",
    "    *, \n",
    "    CASE \n",
    "        WHEN genres LIKE '%Comedy%' THEN  'Yes'\n",
    "        ELSE 'No' \n",
    "    END AS Comedy,\n",
    "    CASE\n",
    "        WHEN genres LIKE '%Action%' THEN 'Yes'\n",
    "        ELSE 'No' \n",
    "    END AS AAction,\n",
    "    CASE\n",
    "        WHEN genres LIKE '%Adventure%' THEN 'Yes'\n",
    "        ELSE 'No' \n",
    "    END AS Adventure,\n",
    "    CASE\n",
    "        WHEN genres LIKE '%Animation%' THEN 'Yes'\n",
    "        ELSE 'No' \n",
    "    END AS Animation,\n",
    "    CASE\n",
    "        WHEN genres LIKE '%Children%' THEN 'Yes'\n",
    "        ELSE 'No' \n",
    "    END AS Children,\n",
    "    CASE\n",
    "        WHEN genres LIKE '%Fantasy%' THEN 'Yes'\n",
    "        ELSE 'No' \n",
    "    END AS Fantasy,\n",
    "    CASE\n",
    "        WHEN genres LIKE '%Romance%' THEN 'Yes'\n",
    "        ELSE 'No' \n",
    "    END AS Romance,\n",
    "    CASE\n",
    "        WHEN genres LIKE '%Sci-Fi%' THEN 'Yes'\n",
    "        ELSE 'No' \n",
    "    END AS SciFi,\n",
    "    CASE\n",
    "        WHEN genres LIKE '%Drama%' THEN 'Yes'\n",
    "        ELSE 'No' \n",
    "    END AS Drama,\n",
    "    CASE\n",
    "        WHEN genres LIKE '%Thriller%' THEN 'Yes'\n",
    "        ELSE 'No' \n",
    "    END AS Thriller,\n",
    "    CASE\n",
    "        WHEN genres LIKE '%Horror%' THEN 'Yes'\n",
    "        ELSE 'No' \n",
    "    END AS Horror,\n",
    "    CASE\n",
    "        WHEN genres LIKE '%War%' THEN 'Yes'\n",
    "        ELSE 'No' \n",
    "    END AS War,\n",
    "    CASE\n",
    "        WHEN genres LIKE '%Musical%' THEN 'Yes'\n",
    "        ELSE 'No' \n",
    "    END AS Musical,\n",
    "    CASE\n",
    "        WHEN genres LIKE '%Documentary%' THEN 'Yes'\n",
    "        ELSE 'No' \n",
    "    END AS Documentary,\n",
    "    CASE\n",
    "        WHEN genres LIKE '%Crime%' THEN 'Yes'\n",
    "        ELSE 'No' \n",
    "    END AS Crime \n",
    "FROM \n",
    "    netflix_data.cleandata.c_movies_table\"\"\")\n"
   ]
  },
  {
   "cell_type": "code",
   "execution_count": 0,
   "metadata": {
    "application/vnd.databricks.v1+cell": {
     "cellMetadata": {
      "byteLimit": 2048000,
      "rowLimit": 10000
     },
     "inputWidgets": {},
     "nuid": "551426fb-11ca-4272-ad3b-9966e8c4c811",
     "showTitle": false,
     "tableResultSettingsMap": {},
     "title": ""
    }
   },
   "outputs": [],
   "source": [
    "movie_df = movie_df.drop(\"genres\")\\\n",
    "    .withColumnRenamed(\"title\", \"Movie_Title\")\\\n",
    "    .withColumnRenamed(\"movieId\", \"Movie_ID\")"
   ]
  },
  {
   "cell_type": "code",
   "execution_count": 0,
   "metadata": {
    "application/vnd.databricks.v1+cell": {
     "cellMetadata": {
      "byteLimit": 2048000,
      "rowLimit": 10000
     },
     "inputWidgets": {},
     "nuid": "b16769cc-32aa-4032-b0d7-6c726121a3c2",
     "showTitle": false,
     "tableResultSettingsMap": {
      "0": {
       "dataGridStateBlob": "{\"version\":1,\"tableState\":{\"columnPinning\":{\"left\":[\"#row_number#\"],\"right\":[]},\"columnSizing\":{},\"columnVisibility\":{}},\"settings\":{\"columns\":{}},\"syncTimestamp\":1756188880459}",
       "filterBlob": null,
       "queryPlanFiltersBlob": null,
       "tableResultIndex": 0
      }
     },
     "title": ""
    }
   },
   "outputs": [],
   "source": [
    "movie_df.display()"
   ]
  },
  {
   "cell_type": "markdown",
   "metadata": {
    "application/vnd.databricks.v1+cell": {
     "cellMetadata": {},
     "inputWidgets": {},
     "nuid": "a255b247-677a-4c68-9f3e-099420711a15",
     "showTitle": false,
     "tableResultSettingsMap": {},
     "title": ""
    }
   },
   "source": [
    "**Save As Table**"
   ]
  },
  {
   "cell_type": "code",
   "execution_count": 0,
   "metadata": {
    "application/vnd.databricks.v1+cell": {
     "cellMetadata": {
      "byteLimit": 2048000,
      "rowLimit": 10000
     },
     "inputWidgets": {},
     "nuid": "5bb072bb-8140-4cb1-b1ff-43e15a3ebc9d",
     "showTitle": false,
     "tableResultSettingsMap": {},
     "title": ""
    }
   },
   "outputs": [],
   "source": [
    "movie_df.write.format('delta')\\\n",
    "              .mode('overwrite')\\\n",
    "              .saveAsTable('netflix_data.transformed_data.t_movies_table')"
   ]
  },
  {
   "cell_type": "code",
   "execution_count": 0,
   "metadata": {
    "application/vnd.databricks.v1+cell": {
     "cellMetadata": {
      "byteLimit": 2048000,
      "implicitDf": true,
      "rowLimit": 10000
     },
     "inputWidgets": {},
     "nuid": "975be217-d539-4dfb-8deb-77341326967f",
     "showTitle": false,
     "tableResultSettingsMap": {},
     "title": ""
    }
   },
   "outputs": [],
   "source": [
    "%sql\n",
    "SELECT * FROM netflix_data.transformed_data.t_movies_table\n",
    "WHERE Comedy = 'Yes' AND Children = 'Yes' AND Adventure = 'Yes' AND Animation = 'Yes' AND Fantasy = 'Yes' "
   ]
  },
  {
   "cell_type": "markdown",
   "metadata": {
    "application/vnd.databricks.v1+cell": {
     "cellMetadata": {},
     "inputWidgets": {},
     "nuid": "d2dd7ebb-b748-4c73-b11f-64b6f929bd7c",
     "showTitle": false,
     "tableResultSettingsMap": {},
     "title": ""
    }
   },
   "source": [
    "### Work With Ratings"
   ]
  },
  {
   "cell_type": "code",
   "execution_count": 0,
   "metadata": {
    "application/vnd.databricks.v1+cell": {
     "cellMetadata": {
      "byteLimit": 2048000,
      "implicitDf": true,
      "rowLimit": 10000
     },
     "inputWidgets": {},
     "nuid": "9ea34229-757d-4891-88e8-101f5398485c",
     "showTitle": false,
     "tableResultSettingsMap": {},
     "title": ""
    }
   },
   "outputs": [],
   "source": [
    "df_avg_rating = spark.sql(\"\"\"SELECT userId, movieId, round(AVG(rating), 2) AS average_rating\n",
    "FROM netflix_data.cleandata.c_ratings_table\n",
    "GROUP BY userId, movieId\n",
    "ORDER BY userID ASC\"\"\")\n"
   ]
  },
  {
   "cell_type": "code",
   "execution_count": 0,
   "metadata": {
    "application/vnd.databricks.v1+cell": {
     "cellMetadata": {
      "byteLimit": 2048000,
      "rowLimit": 10000
     },
     "inputWidgets": {},
     "nuid": "05b51646-fa30-45f0-8acc-9009b074b514",
     "showTitle": false,
     "tableResultSettingsMap": {},
     "title": ""
    }
   },
   "outputs": [],
   "source": [
    "df_avg_rating.write.format('delta')\\\n",
    "              .mode('overwrite')\\\n",
    "              .saveAsTable('netflix_data.transformed_data.t_avg_rating')"
   ]
  },
  {
   "cell_type": "markdown",
   "metadata": {
    "application/vnd.databricks.v1+cell": {
     "cellMetadata": {},
     "inputWidgets": {},
     "nuid": "39c08b4c-266f-4b39-9372-c00738604d6e",
     "showTitle": false,
     "tableResultSettingsMap": {},
     "title": ""
    }
   },
   "source": [
    "### Join Data Frames"
   ]
  },
  {
   "cell_type": "code",
   "execution_count": 0,
   "metadata": {
    "application/vnd.databricks.v1+cell": {
     "cellMetadata": {
      "byteLimit": 2048000,
      "rowLimit": 10000
     },
     "inputWidgets": {},
     "nuid": "5e1b8157-2f20-4cce-850c-47c492805d9d",
     "showTitle": false,
     "tableResultSettingsMap": {},
     "title": ""
    }
   },
   "outputs": [],
   "source": [
    "full_df = spark.sql(\"\"\"SELECT ar.userId, tm.Movie_ID, tm.Movie_Title, ar.average_rating,  tm.Comedy, tm.AAction, tm.Adventure, tm.Animation, tm.Children, tm.Fantasy, tm.Romance, tm.SciFi, tm.Drama, tm.Thriller, tm.Horror, tm.War, tm.Musical, tm.Documentary, tm.Crime, ct.tag, ct.tags_timestamp FROM netflix_data.transformed_data.t_movies_table tm \n",
    "               LEFT JOIN netflix_data.transformed_data.t_avg_rating ar\n",
    "               ON tm.Movie_ID = ar.movieId\n",
    "               LEFT JOIN netflix_data.cleandata.c_tags_table ct\n",
    "               ON tm.Movie_ID = ct.movieId\n",
    "               ORDER BY ar.userId ASC\"\"\")"
   ]
  },
  {
   "cell_type": "code",
   "execution_count": 0,
   "metadata": {
    "application/vnd.databricks.v1+cell": {
     "cellMetadata": {
      "byteLimit": 2048000,
      "rowLimit": 10000
     },
     "inputWidgets": {},
     "nuid": "1884d281-1e03-4096-950e-42d954e990ad",
     "showTitle": false,
     "tableResultSettingsMap": {},
     "title": ""
    }
   },
   "outputs": [],
   "source": [
    "full_df = (full_df.withColumn('userId', when(col('userId').isNull(), 0).otherwise(col('userId')))\n",
    "    .withColumn('Movie_ID', when(col('Movie_ID').isNull(), 0).otherwise(col('Movie_ID')))\n",
    "    .withColumn('Movie_Title', when(col('Movie_Title').isNull(), 'Unknown').otherwise(col('Movie_Title')))\n",
    "    .withColumn('average_rating', when(col('average_rating').isNull(), 0).otherwise(col('average_rating')))\n",
    "    .withColumn('tag', when(col('tag').isNull(), 'None').otherwise(col('tag')))\n",
    "    .withColumn('tags_timestamp', when(col('tags_timestamp').isNull(), '1900-01-01 00:00:00').otherwise(col('tags_timestamp')))\n",
    "    .withColumnRenamed('userId', 'UserID')\n",
    "    .withColumnRenamed('Movie_ID', 'MovieID')\n",
    "    .withColumnRenamed('Movie_Title', 'MovieTitle')\n",
    "    .withColumnRenamed('average_rating', 'AverageRatingOfMovie')\n",
    "    .withColumnRenamed('AAction', 'Action')\n",
    "    .withColumnRenamed('tag', 'MovieTag')\n",
    "    .withColumnRenamed('tags_timestamp', 'MovieTagDateTime'))"
   ]
  },
  {
   "cell_type": "code",
   "execution_count": 0,
   "metadata": {
    "application/vnd.databricks.v1+cell": {
     "cellMetadata": {
      "byteLimit": 2048000,
      "rowLimit": 10000
     },
     "inputWidgets": {},
     "nuid": "83e2bf06-968d-4b71-a9a4-68b57c7165b4",
     "showTitle": false,
     "tableResultSettingsMap": {},
     "title": ""
    }
   },
   "outputs": [],
   "source": [
    "full_df = full_df.drop_duplicates(subset=['UserID', 'MovieID', 'MovieTitle'])"
   ]
  },
  {
   "cell_type": "code",
   "execution_count": 0,
   "metadata": {
    "application/vnd.databricks.v1+cell": {
     "cellMetadata": {
      "byteLimit": 2048000,
      "rowLimit": 10000
     },
     "inputWidgets": {},
     "nuid": "6a744fca-d1b2-4ecf-bb22-74f9316b1236",
     "showTitle": false,
     "tableResultSettingsMap": {},
     "title": ""
    }
   },
   "outputs": [],
   "source": [
    "full_df.write.format('delta')\\\n",
    "              .mode('overwrite')\\\n",
    "              .saveAsTable('netflix_data.transformed_data.t_full_df')"
   ]
  },
  {
   "cell_type": "code",
   "execution_count": 0,
   "metadata": {
    "application/vnd.databricks.v1+cell": {
     "cellMetadata": {
      "byteLimit": 2048000,
      "implicitDf": true,
      "rowLimit": 10000
     },
     "inputWidgets": {},
     "nuid": "91c30742-4115-4efd-af44-158c99f781b9",
     "showTitle": false,
     "tableResultSettingsMap": {
      "0": {
       "dataGridStateBlob": "{\"version\":1,\"tableState\":{\"columnPinning\":{\"left\":[\"#row_number#\"],\"right\":[]},\"columnSizing\":{\"MovieTitle\":316},\"columnVisibility\":{}},\"settings\":{\"columns\":{}},\"syncTimestamp\":1756381125933}",
       "filterBlob": null,
       "queryPlanFiltersBlob": null,
       "tableResultIndex": 0
      }
     },
     "title": ""
    }
   },
   "outputs": [],
   "source": [
    "%sql\n",
    "SELECT * FROM netflix_data.transformed_data.t_full_df\n",
    "ORDER BY UserID ASC"
   ]
  }
 ],
 "metadata": {
  "application/vnd.databricks.v1+notebook": {
   "computePreferences": {
    "hardware": {
     "accelerator": null,
     "gpuPoolId": null,
     "memory": null
    }
   },
   "dashboards": [],
   "environmentMetadata": {
    "base_environment": "",
    "environment_version": "3"
   },
   "inputWidgetPreferences": null,
   "language": "python",
   "notebookMetadata": {
    "mostRecentlyExecutedCommandWithImplicitDF": {
     "commandId": 4884541195134997,
     "dataframes": [
      "_sqldf"
     ]
    },
    "pythonIndentUnit": 4
   },
   "notebookName": "2.NF_tranforming_data",
   "widgets": {}
  },
  "language_info": {
   "name": "python"
  }
 },
 "nbformat": 4,
 "nbformat_minor": 0
}
